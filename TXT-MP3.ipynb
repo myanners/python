{
 "cells": [
  {
   "cell_type": "code",
   "execution_count": 2,
   "metadata": {},
   "outputs": [
    {
     "name": "stdout",
     "output_type": "stream",
     "text": [
      "Pronto!\n"
     ]
    }
   ],
   "source": [
    "from gtts import gTTS\n",
    "\n",
    "# Abra o arquivo .txt para leitura\n",
    "with open('C:\\Python\\\\testepython.txt', 'r') as f:\n",
    "    # Leia o conteúdo do arquivo\n",
    "    text = f.read()\n",
    "\n",
    "# Crie um objeto gTTS com o texto e outras opções (opcional)\n",
    "tts = gTTS(text, lang='pt', slow=False)\n",
    "\n",
    "# Salve o arquivo de áudio como 'arquivo.mp3'\n",
    "tts.save('C:\\Python\\\\arquivoaudiopython.mp3')\n",
    "\n",
    "print(\"Pronto!\")"
   ]
  }
 ],
 "metadata": {
  "kernelspec": {
   "display_name": "Python 3",
   "language": "python",
   "name": "python3"
  },
  "language_info": {
   "codemirror_mode": {
    "name": "ipython",
    "version": 3
   },
   "file_extension": ".py",
   "mimetype": "text/x-python",
   "name": "python",
   "nbconvert_exporter": "python",
   "pygments_lexer": "ipython3",
   "version": "3.11.1"
  },
  "orig_nbformat": 4,
  "vscode": {
   "interpreter": {
    "hash": "bac5e563564f729c7286f23d137e4fa16787d7c750c9cdad987bfa63c07ea71c"
   }
  }
 },
 "nbformat": 4,
 "nbformat_minor": 2
}
